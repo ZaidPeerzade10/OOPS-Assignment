{
  "nbformat": 4,
  "nbformat_minor": 0,
  "metadata": {
    "colab": {
      "provenance": []
    },
    "kernelspec": {
      "name": "python3",
      "display_name": "Python 3"
    },
    "language_info": {
      "name": "python"
    }
  },
  "cells": [
    {
      "cell_type": "markdown",
      "source": [
        "# OOPS Assignment"
      ],
      "metadata": {
        "id": "PSdimL2CXY14"
      }
    },
    {
      "cell_type": "markdown",
      "source": [
        "#Theoratical Questions"
      ],
      "metadata": {
        "id": "5BylahtMStfi"
      }
    },
    {
      "cell_type": "markdown",
      "source": [
        "1. What is Object-Oriented Programming (OOP)?\n",
        "   - Object-Oriented Programming in Python is a way of organizing code using classes and objects.\n",
        "   - It helps group related data and actions together, making the code easier to manage and reuse.\n",
        "   - For example, if we have an Animal class, we can create a Dog and a Cat from it, each with their own sounds like \"Woof!\" and \"Meow!\".\n",
        "\n",
        "2. What is a class in OOP?\n",
        "   - A class in OOP is a blueprint for creating objects that share common attributes and methods.\n",
        "   - It defines how an object should look and act. For example, a Car class can have attributes like brand and color and a method drive() to describe its behavior.\n",
        "\n",
        "3. What is an object in OOP?\n",
        "   - An object in OOP  is a real-world entity created using a class.\n",
        "   - Each object has its own attributes and can perform methods defined in the class.\n",
        "   - For example, if Car is a class, my_car = Car(\"Toyota\", \"Red\") creates an object my_car with specific properties like brand and color.\n",
        "\n",
        "4. What is the difference between abstraction and encapsulation?\n",
        "   - Abstraction is the process of hiding complex details and showing only the necessary features.\n",
        "   - It allows users to interact with a system without knowing how it works\n",
        "   - internally, like driving a car without understanding the engine mechanics.\n",
        "   - Encapsulation is the practice of restricting direct access to data and allowing controlled modifications through methods.\n",
        "   - It protects an object's data, like a bank account where the balance can't be changed directly but only through deposits or withdrawals.\n",
        "\n",
        "5. What are dunder methods in Python?\n",
        "   - Dunder methods in Python are specific methods that begin and end with double underscores (for example, __init__, __str__).\n",
        "   - They are otherwise referred to as magic methods because they enable objects to communicate with built-in Python operations such as initialization, printing, and arithmetic.\n",
        "\n",
        "6. Explain the concept of inheritance in OOP?\n",
        "   - Inheritance is an Object-Oriented Programming (OOP) concept where a child class inherits properties and functions from a parent class.\n",
        "   - It allows code reusability and enables creating a class hierarchy.\n",
        "\n",
        "7.  What is polymorphism in OOP?\n",
        "   - Polymorphism is \"many forms\" and enables several classes to have the same method name but invoke different behaviors.\n",
        "   - It enables flexible and reusable code by enabling one interface to function with various data types or classes.\n",
        "\n",
        "8. How is encapsulation achieved in Python?\n",
        "   - Encapsulation in Python is realized through limiting direct object data access using private variable and protected variable attributes.\n",
        "   - Direct access is not allowed to private attributes, and protected attributes are not meant to be modified directly.\n",
        "   - Controlled access is enabled using getter and setter methods for data security and integrity.\n",
        "\n",
        "9. What is a constructor in Python?\n",
        "   - A Python constructor (__init__()) is a special method that is invoked automatically when an object is created.\n",
        "   - It is employed for initializing object attributes with particular values.\n",
        "   - For example, within a Car class, a constructor can define the car brand and color when a new car object is instantiated.\n",
        "\n",
        "10. What are class and static methods in Python?\n",
        "    - A class method  operates on the class itself and alters class-level attributes, as a parameter cls.\n",
        "    - A static method is just a normal function within a class that does not rely on instance or class attributes.\n",
        "    - Class methods are employed to alter class variables, whereas static methods are employed for utility functions.\n",
        "\n",
        "11. What is method overloading in Python?\n",
        "    - Method overloading means that several methods can be declared with the same method name but differing parameters.\n",
        "    - It is possible using default parameters or *args/**kwargs for dealing with variable numbers of arguments.\n",
        "\n",
        "12. What is method overriding in OOP?\n",
        "    - Method overriding takes place when a child class offers a new implementation of a method that is already declared in its parent class.\n",
        "    - The overridden method in the child class needs to have the same parameters and name as in the parent class.\n",
        "    - This enables the subclasses to tailor or modify the behavior of inherited methods.\n",
        "\n",
        "13. What is a property decorator in Python?\n",
        "    - A Python decorator for property is applied to specify getter, setter, and deleter methods in an object-oriented manner.\n",
        "    - It can facilitate controlled access to class attributes with minimal and clear syntax.\n",
        "\n",
        "14. Why is polymorphism important in OOP?\n",
        "    -  Polymorphism is important in OOP due to the ability to treat dissimilar objects identically, to make code reusable, flexible, and scalable.\n",
        "    - It makes different classes share one common interface through the elimination of duplication and its enhancement of maintainability.\n",
        "\n",
        "15. What is an abstract class in Python?\n",
        "   - An abstract class in Python is a class that cannot be instantiated and is intended to be a template for other classes.\n",
        "   - It should have at least one abstract method, which is a method declared but not defined in the parent class.\n",
        "   - Abstract classes are implemented using the ABC (Abstract Base Class) module.\n",
        "\n",
        "16. What are the advantages of OOP?\n",
        "   - Inheritance facilitates reuse of code, eliminating redundancy.\n",
        "   - Conceals data by limiting direct access and permitting controlled modifications.\n",
        "   - Facilitates usage of a uniform interface for varied data types, making code more adaptable.\n",
        "   - Conceals intricate implementation details and provides only required functionalities.\n",
        "   - Groups code into objects, simplifying management, debugging, and expansion.\n",
        "\n",
        "17. What is the difference between a class variable and an instance variable?\n",
        "   - A class variable belongs to all objects of a class and is declared outside of the methods, whereas an instance variable is specific to a particular object and declared within the constructor (__init__() ).\n",
        "   - Altering a class variable will impact all objects, whereas altering an instance variable will influence only that object.\n",
        "   - For instance, in a Car class, wheels = 4 may be a class variable (the same for every car), whereas brand may be an instance variable (different for every car).\n",
        "\n",
        "18. What is multiple inheritance in Python?\n",
        "   - Multiple inheritance enables a class to inherit from more than a single parent class, allowing access to attributes and methods from all the sources.\n",
        "   - This facilitates reusability of code but increases complexity, notably with the Diamond Problem resolved by the Method Resolution Order (MRO).\n",
        "\n",
        "\n",
        "19. Explain the purpose of '__str__' and '__repr__' methods in Python.\n",
        "   - The __str__() method gives a friendly string representation of an object and is invoked when printing object or converting object to str.\n",
        "   - The __repr__() method gives a representation that is friendly to developers, preferably one that can reconstruct the object, and is invoked by repr(object). If __str__() is not implemented, Python defaults to __repr__().\n",
        "\n",
        "20. What is the significance of the 'super()' function in Python?\n",
        "    - The super() function in Python is used to call methods from a parent class inside a child class.\n",
        "    - It is mainly used in inheritance to avoid redundant code and ensure that the parent class's methods are properly initialized.\n",
        "\n",
        "21. What is the significance of the __del__ method in Python?\n",
        "    - The __del__ method in Python is a destructor that is called when an object is about to be destroyed.\n",
        "    - It is used for cleanup tasks like closing files, releasing memory, or disconnecting from databases.\n",
        "\n",
        "22. What is the difference between @staticmethod and @classmethod in Python?\n",
        "    - A @staticmethod is a method that does not access instance (self) or class (cls) variables and is used for independent utility functions inside a class.\n",
        "    - A @classmethod takes cls as its first parameter and can access or modify class-level attributes.\n",
        "    - While static methods are like regular functions inside a class, class methods allow working with the class itself.\n",
        "\n",
        "23. How does polymorphism work in Python with inheritance?\n",
        "    - Polymorphism with inheritance in Python allows a child class to override or extend methods from a parent class, enabling different classes to share the same method name but behave differently.\n",
        "    - This makes the code more flexible and reusable.\n",
        "\n",
        "24.  What is method chaining in Python OOP?\n",
        "    - Method chaining in Python OOP is an approach where several methods are called on the same object in one line, enhancing readability and minimizing code duplication.\n",
        "    - It is made possible by having each method return self so that the next method can be invoked on the same object.\n",
        "\n",
        "25. What is the purpose of the __call__ method in Python?\n",
        "    - Python's __call__ function enables a class instance to be called like a function.\n",
        "    - This enables objects to act like functions without losing state and encapsulation."
      ],
      "metadata": {
        "id": "-xG2mHB-Xf84"
      }
    },
    {
      "cell_type": "markdown",
      "source": [
        "#Practical Questions"
      ],
      "metadata": {
        "id": "gnVUxRNjSbQg"
      }
    },
    {
      "cell_type": "code",
      "source": [
        "#1. Create a parent class Animal with a method speak() that prints a generic message. Create a child class Dog that overrides the speak() method to print \"Bark!\".\n",
        "\n",
        "class Animal:\n",
        "    def speak(self):\n",
        "        print(\"Animal makes a sound\")\n",
        "\n",
        "class Dog(Animal):\n",
        "    def speak(self):\n",
        "        print(\"Bark!\")\n",
        "\n",
        "Dog().speak()"
      ],
      "metadata": {
        "colab": {
          "base_uri": "https://localhost:8080/"
        },
        "id": "cSGNOyIpuYJ2",
        "outputId": "89345353-6484-4ea4-fc75-b4a6379d87be"
      },
      "execution_count": 1,
      "outputs": [
        {
          "output_type": "stream",
          "name": "stdout",
          "text": [
            "Bark!\n"
          ]
        }
      ]
    },
    {
      "cell_type": "code",
      "source": [
        "#2. Write a program to create an abstract class Shape with a method area(). Derive classes Circle and Rectangle from it and implement the area() method in both.\n",
        "\n",
        "from abc import ABC, abstractmethod\n",
        "class Shape(ABC):\n",
        "    @abstractmethod\n",
        "    def area(self):\n",
        "        pass\n",
        "\n",
        "class Circle(Shape):\n",
        "    def __init__(self, r):\n",
        "        self.r = r\n",
        "\n",
        "    def area(self):\n",
        "        return 3.14 * self.r * self.r\n",
        "\n",
        "class Rectangle(Shape):\n",
        "    def __init__(self, l, w):\n",
        "        self.l, self.w = l, w\n",
        "\n",
        "    def area(self):\n",
        "        return self.l * self.w\n",
        "\n",
        "print(Circle(5).area())\n",
        "print(Rectangle(4, 6).area())"
      ],
      "metadata": {
        "colab": {
          "base_uri": "https://localhost:8080/"
        },
        "id": "TlT6oc68vIdN",
        "outputId": "06527686-4ba9-45a2-a54d-d2bf7ad8dcff"
      },
      "execution_count": 3,
      "outputs": [
        {
          "output_type": "stream",
          "name": "stdout",
          "text": [
            "78.5\n",
            "24\n"
          ]
        }
      ]
    },
    {
      "cell_type": "code",
      "source": [
        "#3. Implement a multi-level inheritance scenario where a class Vehicle has an attribute type. Derive a class Car and further derive a class ElectricCar that adds a battery attribute.\n",
        "\n",
        "class Vehicle:\n",
        "    def __init__(self, type):\n",
        "        self.type = type\n",
        "\n",
        "class Car(Vehicle):\n",
        "    def __init__(self, brand):\n",
        "        super().__init__(\"Four-Wheeler\")\n",
        "        self.brand = brand\n",
        "\n",
        "class ElectricCar(Car):\n",
        "    def __init__(self, brand, battery):\n",
        "        super().__init__(brand)\n",
        "        self.battery = battery\n",
        "\n",
        "tesla = ElectricCar(\"Tesla\", \"100 kWh\")\n",
        "print(tesla.type, tesla.brand, tesla.battery)\n"
      ],
      "metadata": {
        "colab": {
          "base_uri": "https://localhost:8080/"
        },
        "id": "O0BeTD2xv3Xd",
        "outputId": "22277d84-5b9e-462d-ed76-2a476fce9960"
      },
      "execution_count": 4,
      "outputs": [
        {
          "output_type": "stream",
          "name": "stdout",
          "text": [
            "Four-Wheeler Tesla 100 kWh\n"
          ]
        }
      ]
    },
    {
      "cell_type": "code",
      "source": [
        "#4. Demonstrate polymorphism by creating a base class Bird with a method fly(). Create two derived classes Sparrow and Penguin that override the fly() method.\n",
        "\n",
        "class Bird:\n",
        "    def fly(self):\n",
        "        print(\"Some birds can fly.\")\n",
        "\n",
        "class Sparrow(Bird):\n",
        "    def fly(self):\n",
        "        print(\"Sparrow flies high!\")\n",
        "\n",
        "class Penguin(Bird):\n",
        "    def fly(self):\n",
        "        print(\"Penguins can't fly!\")\n",
        "\n",
        "# Polymorphism in action\n",
        "for bird in [Sparrow(), Penguin()]:\n",
        "    bird.fly()\n"
      ],
      "metadata": {
        "colab": {
          "base_uri": "https://localhost:8080/"
        },
        "id": "F_k_nBmJwVZz",
        "outputId": "44adaba7-56ba-45c5-bd00-e0536e064576"
      },
      "execution_count": 6,
      "outputs": [
        {
          "output_type": "stream",
          "name": "stdout",
          "text": [
            "Sparrow flies high!\n",
            "Penguins can't fly!\n"
          ]
        }
      ]
    },
    {
      "cell_type": "code",
      "source": [
        "#5. Write a program to demonstrate encapsulation by creating a class BankAccount with private attributes balance and methods to deposit, withdraw, and check balance.\n",
        "\n",
        "class BankAccount:\n",
        "    def __init__(self, balance=0):\n",
        "        self.__balance = balance\n",
        "\n",
        "    def deposit(self, amount):\n",
        "        if amount > 0:\n",
        "            self.__balance += amount\n",
        "\n",
        "    def withdraw(self, amount):\n",
        "        if 0 < amount <= self.__balance:\n",
        "            self.__balance -= amount\n",
        "\n",
        "    def get_balance(self):\n",
        "        return self.__balance\n",
        "\n",
        "account = BankAccount(100)\n",
        "account.deposit(50)\n",
        "account.withdraw(30)\n",
        "print(\"Balance:\", account.get_balance())"
      ],
      "metadata": {
        "id": "Ms5czor5yG2K",
        "colab": {
          "base_uri": "https://localhost:8080/"
        },
        "outputId": "b7a4088f-23f4-4d46-ed85-96234b8a077e"
      },
      "execution_count": 7,
      "outputs": [
        {
          "output_type": "stream",
          "name": "stdout",
          "text": [
            "Balance: 120\n"
          ]
        }
      ]
    },
    {
      "cell_type": "code",
      "source": [
        "#6. Demonstrate runtime polymorphism using a method play() in a base class Instrument. Derive classes Guitar and Piano that implement their own version of play().\n",
        "\n",
        "class Instrument:\n",
        "    def play(self):\n",
        "        print(\"Playing an instrument.\")\n",
        "\n",
        "class Guitar(Instrument):\n",
        "    def play(self):\n",
        "        print(\"Strumming the guitar!\")\n",
        "\n",
        "class Piano(Instrument):\n",
        "    def play(self):\n",
        "        print(\"Playing the piano!\")\n",
        "\n",
        "# Runtime polymorphism\n",
        "for instrument in [Guitar(), Piano()]:\n",
        "    instrument.play()"
      ],
      "metadata": {
        "colab": {
          "base_uri": "https://localhost:8080/"
        },
        "id": "KYiP6C2a0drz",
        "outputId": "6e9f2565-dce1-42be-a00f-99688e0c7326"
      },
      "execution_count": 8,
      "outputs": [
        {
          "output_type": "stream",
          "name": "stdout",
          "text": [
            "Strumming the guitar!\n",
            "Playing the piano!\n"
          ]
        }
      ]
    },
    {
      "cell_type": "code",
      "source": [
        "#7. Create a class MathOperations with a class method add_numbers() to add two numbers and a static method subtract_numbers() to subtract two numbers.\n",
        "\n",
        "class MathOperations:\n",
        "    @classmethod\n",
        "    def add_numbers(cls, a, b):\n",
        "        return a + b\n",
        "\n",
        "    @staticmethod\n",
        "    def subtract_numbers(a, b):\n",
        "        return a - b\n",
        "\n",
        "print(MathOperations.add_numbers(5, 3))\n",
        "print(MathOperations.subtract_numbers(10, 4))"
      ],
      "metadata": {
        "colab": {
          "base_uri": "https://localhost:8080/"
        },
        "id": "MzPra9L92tA9",
        "outputId": "063d9c20-9a21-4492-cb38-be15755493fb"
      },
      "execution_count": 9,
      "outputs": [
        {
          "output_type": "stream",
          "name": "stdout",
          "text": [
            "8\n",
            "6\n"
          ]
        }
      ]
    },
    {
      "cell_type": "code",
      "source": [
        "#8. Implement a class Person with a class method to count the total number of persons created.\n",
        "\n",
        "\n",
        "class Person:\n",
        "    count = 0\n",
        "\n",
        "    def __init__(self):\n",
        "        Person.count += 1\n",
        "\n",
        "    @classmethod\n",
        "    def total_persons(cls):\n",
        "        return cls.count\n",
        "\n",
        "\n",
        "p1 = Person()\n",
        "p2 = Person()\n",
        "p3 = Person()\n",
        "\n",
        "print(\"Total persons:\", Person.total_persons())  # Output: Total persons: 3"
      ],
      "metadata": {
        "colab": {
          "base_uri": "https://localhost:8080/"
        },
        "id": "w1dKzIVA3rMw",
        "outputId": "f7649fe9-8e5d-4b2e-e98e-b2d03ac926ee"
      },
      "execution_count": 10,
      "outputs": [
        {
          "output_type": "stream",
          "name": "stdout",
          "text": [
            "Total persons: 3\n"
          ]
        }
      ]
    },
    {
      "cell_type": "code",
      "source": [
        "#9. Write a class Fraction with attributes numerator and denominator. Override the str method to display the fraction as \"numerator/denominator\".\n",
        "\n",
        "class Fraction:\n",
        "    def __init__(self, num, den):\n",
        "        self.numerator = num\n",
        "        self.denominator = den\n",
        "\n",
        "    def __str__(self):\n",
        "        return f\"{self.numerator}/{self.denominator}\"\n",
        "\n",
        "\n",
        "frac = Fraction(3, 4)\n",
        "print(frac)"
      ],
      "metadata": {
        "colab": {
          "base_uri": "https://localhost:8080/"
        },
        "id": "TY0JKPvd4GmV",
        "outputId": "4a80d54f-6f74-433c-c24a-a3efba5078f4"
      },
      "execution_count": 11,
      "outputs": [
        {
          "output_type": "stream",
          "name": "stdout",
          "text": [
            "3/4\n"
          ]
        }
      ]
    },
    {
      "cell_type": "code",
      "source": [
        "#10. Demonstrate operator overloading by creating a class Vector and overriding the add method to add two vectors.\n",
        "\n",
        "class Vector:\n",
        "    def __init__(self, x, y):\n",
        "        self.x = x\n",
        "        self.y = y\n",
        "\n",
        "    def __add__(self, other):\n",
        "        if isinstance(other, Vector):\n",
        "            return Vector(self.x + other.x, self.y + other.y)\n",
        "        raise TypeError(\"Operand must be an instance of Vector\")\n",
        "\n",
        "    def __str__(self):\n",
        "        return f\"Vector({self.x}, {self.y})\"\n",
        "\n",
        "v1 = Vector(2, 3)\n",
        "v2 = Vector(4, 5)\n",
        "v3 = v1 + v2\n",
        "print(v3)"
      ],
      "metadata": {
        "colab": {
          "base_uri": "https://localhost:8080/"
        },
        "id": "sh8Psx4048Cj",
        "outputId": "96889bd4-d45f-44a4-f2da-fbd0dc6da8e4"
      },
      "execution_count": 13,
      "outputs": [
        {
          "output_type": "stream",
          "name": "stdout",
          "text": [
            "Vector(6, 8)\n"
          ]
        }
      ]
    },
    {
      "cell_type": "code",
      "source": [
        "#11. Create a class Person with attributes name and age. Add a method greet() that prints \"Hello, my name is {name} and I am {age} years old.\"\n",
        "\n",
        "class Person:\n",
        "    def __init__(self, name, age):\n",
        "        self.name = name\n",
        "        self.age = age\n",
        "\n",
        "    def greet(self):\n",
        "        print(f\"Hello, my name is {self.name} and I am {self.age} years old.\")\n",
        "\n",
        "p1 = Person(\"Zaid\", 20)\n",
        "p1.greet()"
      ],
      "metadata": {
        "id": "ExRykP595x6D",
        "colab": {
          "base_uri": "https://localhost:8080/"
        },
        "outputId": "b9cb8996-a820-4b36-a230-84a7e1a2f3b5"
      },
      "execution_count": 14,
      "outputs": [
        {
          "output_type": "stream",
          "name": "stdout",
          "text": [
            "Hello, my name is Zaid and I am 20 years old.\n"
          ]
        }
      ]
    },
    {
      "cell_type": "code",
      "source": [
        "#12. Implement a class Student with attributes name and grades. Create a method average_grade() to compute the average of the grades.\n",
        "\n",
        "class Student:\n",
        "    def __init__(self, name, grades):\n",
        "        self.name = name\n",
        "        self.grades = grades\n",
        "\n",
        "    def average_grade(self):\n",
        "        return sum(self.grades) / len(self.grades)\n",
        "\n",
        "s1 = Student(\"Zaid\", [85, 90, 78])\n",
        "print(f\"{s1.name}'s average grade: {s1.average_grade()}\")"
      ],
      "metadata": {
        "colab": {
          "base_uri": "https://localhost:8080/"
        },
        "id": "TFbHnXmp7uWq",
        "outputId": "6e77950e-c526-4e8d-97ae-871062bf9ae9"
      },
      "execution_count": 15,
      "outputs": [
        {
          "output_type": "stream",
          "name": "stdout",
          "text": [
            "Zaid's average grade: 84.33333333333333\n"
          ]
        }
      ]
    },
    {
      "cell_type": "code",
      "source": [
        "#13. Create a class Rectangle with methods set_dimensions() to set the dimensions and area() to calculate the area.\n",
        "\n",
        "class Rectangle:\n",
        "    def set_dimensions(self, length, width):\n",
        "        self.length = length\n",
        "        self.width = width\n",
        "\n",
        "    def area(self):\n",
        "        return self.length * self.width\n",
        "\n",
        "rect = Rectangle()\n",
        "rect.set_dimensions(5, 3)\n",
        "print(\"Area:\", rect.area())"
      ],
      "metadata": {
        "colab": {
          "base_uri": "https://localhost:8080/"
        },
        "id": "i7aJnkXZ8Ff5",
        "outputId": "f00f0e0b-6058-4e76-eda7-c4deb86265c1"
      },
      "execution_count": 16,
      "outputs": [
        {
          "output_type": "stream",
          "name": "stdout",
          "text": [
            "Area: 15\n"
          ]
        }
      ]
    },
    {
      "cell_type": "code",
      "source": [
        "#14. Create a class Employee with a method calculate_salary() that computes the salary based on hours worked and hourly rate. Create a derived class Manager that adds a bonus to the salary.\n",
        "\n",
        "class Employee:\n",
        "    def __init__(self, hours_worked, hourly_rate):\n",
        "        self.hours_worked = hours_worked\n",
        "        self.hourly_rate = hourly_rate\n",
        "\n",
        "    def calculate_salary(self):\n",
        "        return self.hours_worked * self.hourly_rate\n",
        "\n",
        "class Manager(Employee):\n",
        "    def __init__(self, hours_worked, hourly_rate, bonus):\n",
        "        super().__init__(hours_worked, hourly_rate)\n",
        "        self.bonus = bonus\n",
        "\n",
        "    def calculate_salary(self):\n",
        "        return super().calculate_salary() + self.bonus\n",
        "\n",
        "emp = Employee(40, 20)\n",
        "mgr = Manager(40, 20, 500)\n",
        "\n",
        "print(\"Employee Salary:\", emp.calculate_salary())\n",
        "print(\"Manager Salary:\", mgr.calculate_salary())"
      ],
      "metadata": {
        "colab": {
          "base_uri": "https://localhost:8080/"
        },
        "id": "UgFld1rJMP8m",
        "outputId": "7700b1c8-1b60-4c66-bc0f-a212c7b2ec1d"
      },
      "execution_count": 17,
      "outputs": [
        {
          "output_type": "stream",
          "name": "stdout",
          "text": [
            "Employee Salary: 800\n",
            "Manager Salary: 1300\n"
          ]
        }
      ]
    },
    {
      "cell_type": "code",
      "source": [
        "#15. Create a class Product with attributes name, price, and quantity. Implement a method total_price() that calculates the total price of the product.\n",
        "\n",
        "class Product:\n",
        "    def __init__(self, name, price, quantity):\n",
        "        self.name = name\n",
        "        self.price = price\n",
        "        self.quantity = quantity\n",
        "\n",
        "    def total_price(self):\n",
        "        return self.price * self.quantity\n",
        "\n",
        "p1 = Product(\"Laptop\", 1800, 2)\n",
        "print(f\"Total price of {p1.name}: {p1.total_price()}rs\")"
      ],
      "metadata": {
        "colab": {
          "base_uri": "https://localhost:8080/"
        },
        "id": "T4MXm-3GNW7q",
        "outputId": "42a7189f-751c-44c9-ccf9-00739d5f0a84"
      },
      "execution_count": 22,
      "outputs": [
        {
          "output_type": "stream",
          "name": "stdout",
          "text": [
            "Total price of Laptop: 3600rs\n"
          ]
        }
      ]
    },
    {
      "cell_type": "code",
      "source": [
        "#16. Create a class Animal with an abstract method sound(). Create two derived classes Cow and Sheep that implement the sound() method.\n",
        "\n",
        "from abc import ABC, abstractmethod\n",
        "\n",
        "class Animal(ABC):\n",
        "    @abstractmethod\n",
        "    def sound(self):\n",
        "        pass\n",
        "\n",
        "class Cow(Animal):\n",
        "    def sound(self):\n",
        "        return \"Moo!\"\n",
        "\n",
        "class Sheep(Animal):\n",
        "    def sound(self):\n",
        "        return \"Baa!\"\n",
        "\n",
        "cow = Cow()\n",
        "sheep = Sheep()\n",
        "\n",
        "print(cow.sound())\n",
        "print(sheep.sound())"
      ],
      "metadata": {
        "colab": {
          "base_uri": "https://localhost:8080/"
        },
        "id": "w_f_sFF6gfN6",
        "outputId": "dd877756-4f6f-40b4-9ab4-8f1e532d56f8"
      },
      "execution_count": 23,
      "outputs": [
        {
          "output_type": "stream",
          "name": "stdout",
          "text": [
            "Moo!\n",
            "Baa!\n"
          ]
        }
      ]
    },
    {
      "cell_type": "code",
      "source": [
        "#17. Create a class Book with attributes title, author, and year_published. Add a method get_book_info() that returns a formatted string with the book's details.\n",
        "\n",
        "class Book:\n",
        "    def __init__(self, title, author, year_published):\n",
        "        self.title = title\n",
        "        self.author = author\n",
        "        self.year_published = year_published\n",
        "\n",
        "    def get_book_info(self):\n",
        "        return f\"'{self.title}' by {self.author}, published in {self.year_published}.\"\n",
        "\n",
        "book = Book(\"1984\", \"George Orwell\", 1949)\n",
        "print(book.get_book_info())"
      ],
      "metadata": {
        "colab": {
          "base_uri": "https://localhost:8080/"
        },
        "id": "AZVqSc8Cggjb",
        "outputId": "40401b12-8479-4fa1-8e0b-93fdb3935172"
      },
      "execution_count": 24,
      "outputs": [
        {
          "output_type": "stream",
          "name": "stdout",
          "text": [
            "'1984' by George Orwell, published in 1949.\n"
          ]
        }
      ]
    },
    {
      "cell_type": "code",
      "source": [
        "#18. Create a class House with attributes address and price. Create a derived class Mansion that adds an attribute number_of_rooms.\n",
        "\n",
        "class House:\n",
        "    def __init__(self, address, price):\n",
        "        self.address = address\n",
        "        self.price = price\n",
        "\n",
        "class Mansion(House):\n",
        "    def __init__(self, address, price, number_of_rooms):\n",
        "        super().__init__(address, price)\n",
        "        self.number_of_rooms = number_of_rooms\n",
        "\n",
        "mansion = Mansion(\"123 Luxury St\", 5000000, 10)\n",
        "print(f\"Address: {mansion.address}, Price: ${mansion.price}, Rooms: {mansion.number_of_rooms}\")"
      ],
      "metadata": {
        "colab": {
          "base_uri": "https://localhost:8080/"
        },
        "id": "iRDblA7Aghx9",
        "outputId": "38bf3b18-5fed-4339-b6db-940fe94b2c75"
      },
      "execution_count": 25,
      "outputs": [
        {
          "output_type": "stream",
          "name": "stdout",
          "text": [
            "Address: 123 Luxury St, Price: $5000000, Rooms: 10\n"
          ]
        }
      ]
    }
  ]
}